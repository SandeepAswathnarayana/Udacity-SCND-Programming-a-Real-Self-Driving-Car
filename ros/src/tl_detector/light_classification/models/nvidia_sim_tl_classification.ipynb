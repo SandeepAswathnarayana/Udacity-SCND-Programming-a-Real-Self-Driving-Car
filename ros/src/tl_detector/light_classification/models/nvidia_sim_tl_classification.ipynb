{
 "cells": [
  {
   "cell_type": "code",
   "execution_count": null,
   "metadata": {},
   "outputs": [],
   "source": [
    "import numpy as np\n",
    "from numpy import newaxis\n",
    "import os\n",
    "\n",
    "import cv2\n",
    "import sklearn\n",
    "from keras.models import Sequential\n",
    "from keras.layers import Flatten, Dense \n",
    "from keras.layers import Lambda, Conv2D, Cropping2D, MaxPool2D\n",
    "\n",
    "\n",
    "from sklearn.utils import shuffle\n",
    "from sklearn.model_selection import train_test_split"
   ]
  },
  {
   "cell_type": "code",
   "execution_count": null,
   "metadata": {},
   "outputs": [],
   "source": [
    "path = \"data/\"\n",
    "folders = [f for f in os.listdir(path) if os.path.isdir(path+ f)]"
   ]
  },
  {
   "cell_type": "code",
   "execution_count": null,
   "metadata": {},
   "outputs": [],
   "source": [
    "X = []\n",
    "y = []\n",
    "\n",
    "\n",
    "print('started!')\n",
    "\n",
    "for lbl in folders:\n",
    "\n",
    "    if(lbl == 'Red') :\n",
    "        y_lbl= 0\n",
    "    elif(lbl == 'Yellow') :\n",
    "        y_lbl= 1\n",
    "    elif(lbl == 'Green'):\n",
    "        y_lbl= 2\n",
    "    else:\n",
    "        y_lbl = 3\n",
    "    files = [n for n in os.listdir(path+lbl+'/') if (n.endswith('.png')|n.endswith('.jpg'))]\n",
    "    for n in files:\n",
    "        img = cv2.cvtColor(cv2.imread(path+lbl+'/'+n), cv2.COLOR_BGR2RGB)\n",
    "        img = cv2.resize(img, (256,192))\n",
    "        X.append(img)\n",
    "        y.append(y_lbl)\n",
    "        \n",
    "\n",
    "y = np.array(y)\n",
    "X = np.array(X)\n",
    "X = X/255.0 #normalise! it is vital.\n",
    "X_, y_ = shuffle(X,y)"
   ]
  },
  {
   "cell_type": "code",
   "execution_count": null,
   "metadata": {},
   "outputs": [],
   "source": [
    "X_train, X_test, y_train, y_test = train_test_split(\n",
    "    X_, y_, test_size=0.30)\n",
    "\n",
    "print(y_.shape)\n",
    "print(X_.shape)"
   ]
  },
  {
   "cell_type": "code",
   "execution_count": null,
   "metadata": {},
   "outputs": [],
   "source": [
    "X_train, y_train = shuffle(X_train, y_train)"
   ]
  },
  {
   "cell_type": "code",
   "execution_count": null,
   "metadata": {},
   "outputs": [],
   "source": [
    "from keras.utils import to_categorical\n",
    "\n",
    "y_train = to_categorical(y_train)\n",
    "y_test = to_categorical(y_test)"
   ]
  },
  {
   "cell_type": "code",
   "execution_count": null,
   "metadata": {},
   "outputs": [],
   "source": [
    "model = Sequential()\n",
    "model.add(Conv2D(24, (5, 5), strides =(2,2), input_shape=(192,256,3), activation=\"relu\"))\n",
    "model.add(Conv2D(36, (5, 5), strides =(2,2), activation=\"relu\"))\n",
    "model.add(Conv2D(48, (5, 5), strides =(2,2), activation=\"relu\"))\n",
    "model.add(Conv2D(64, (3, 3), activation=\"relu\"))\n",
    "model.add(Conv2D(64, (3, 3), activation=\"relu\")) \n",
    "model.add(Flatten())\n",
    "model.add(Dense(100, activation=\"relu\"))\n",
    "model.add(Dense(50, activation=\"relu\")) \n",
    "model.add(Dense(10, activation=\"relu\"))\n",
    "model.add(Dense(4, activation='softmax'))\n",
    "\n",
    "model.compile(optimizer='adam', loss='categorical_crossentropy', metrics=['accuracy'])\n",
    "model.fit(X_train, y_train, validation_data=(X_test, y_test), epochs=25, batch_size = 128)"
   ]
  },
  {
   "cell_type": "code",
   "execution_count": null,
   "metadata": {},
   "outputs": [],
   "source": [
    "model.save('model_sim-nvidia.h5')"
   ]
  }
 ],
 "metadata": {
  "kernelspec": {
   "display_name": "Python 3",
   "language": "python",
   "name": "python3"
  },
  "language_info": {
   "codemirror_mode": {
    "name": "ipython",
    "version": 3
   },
   "file_extension": ".py",
   "mimetype": "text/x-python",
   "name": "python",
   "nbconvert_exporter": "python",
   "pygments_lexer": "ipython3",
   "version": "3.6.5"
  }
 },
 "nbformat": 4,
 "nbformat_minor": 2
}
